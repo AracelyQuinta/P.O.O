# Servicio de delivery - Ejemplo con Programación Orientada a Objetos

# Clase base Vehículo que contiene atributos comunes a motos y automóviles
class Vehiculo:
    def __init__(self, marca, modelo, color, placa, año_matricula, precio_por_km):
        self.marca = marca
        self.modelo = modelo
        self.color = color
        self.placa = placa
        self.año_matricula = año_matricula
        self.precio_por_km = precio_por_km  # Tarifa de delivery por kilómetro recorrido

# Subclase Moto que hereda de Vehiculo y agrega el atributo pasajeros
class Moto(Vehiculo):
    def __init__(self, marca, modelo, color, placa, año_matricula, precio_por_km, pasajeros):
        super().__init__(marca, modelo, color, placa, año_matricula, precio_por_km)  # Hereda atributos del vehículo
        self.pasajeros = pasajeros  # Capacidad de pasajeros en la moto

# Subclase Automóvil que hereda de Vehiculo y agrega cilindraje
class Automovil(Vehiculo):
    def __init__(self, marca, modelo, color, placa, año_matricula, precio_por_km, cilindraje):
        super().__init__(marca, modelo, color, placa, año_matricula, precio_por_km)  # Hereda atributos del vehículo
        self.cilindraje = cilindraje  # Tamaño del motor del automóvil

# Clase Persona que representa al cliente o repartidor
class Persona:
    def __init__(self, nombre):
        self.nombre = nombre  # Nombre de la persona involucrada en el pedido

# Clase Deliveri que representa un servicio de entrega
class Deliveri:
    def __init__(self, vehiculo, distancia, persona):
        self.vehiculo = vehiculo      # Vehículo usado para el delivery (moto o automóvil)
        self.distancia = distancia    # Distancia del envío en kilómetros
        self.persona = persona        # Persona asociada al envío

    # Método que calcula el costo total del delivery
    def calcular_precio(self):
        return self.distancia * self.vehiculo.precio_por_km
    # Método opcional que podría imprimir detalles (actualmente imprime solo el objeto)
    def imprimir_detalles(self):
        print(self.vehiculo)

# === Ejemplo de uso del sistema ===

# Se crea una moto con sus respectivos datos
moto1 = Moto("Yamaha", "XTZ1223", "Negra", "abc354", 2025, 1.25, 2)

# Se crea una persona llamada Aracely
persona1 = Persona("Aracely")

# Se crea un servicio de delivery con esa moto, persona, y una distancia de 25.2 km
deliveri1 = Deliveri(moto1, 25.2, persona1)

print(f"Brinda el servicio de deliveri {persona1.nombre} al valor de {moto1.precio_por_km} por km, los km recorridos son de {deliveri1.distancia} el valor a pagar es el siguiente:")

# Se imprime el costo total del delivery
print(f" ${deliveri1.calcular_precio()}")  # Resultado: 25.2 km * $1.25 = $31.5




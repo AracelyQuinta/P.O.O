{
 "cells": [
  {
   "metadata": {},
   "cell_type": "code",
   "outputs": [],
   "execution_count": null,
   "source": [
    "\n",
    "\n"
   ],
   "id": "7049fe1e9b6a7227"
  }
 ],
 "metadata": {},
 "nbformat": 5,
 "nbformat_minor": 9
}

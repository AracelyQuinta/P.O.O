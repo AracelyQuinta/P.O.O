{
 "cells": [
  {
   "cell_type": "code",
   "execution_count": null,
   "id": "initial_id",
   "metadata": {
    "collapsed": true
   },
   "outputs": [],
   "source": [
    "# Servicio de delivery - Ejemplo con Programación Orientada a Objetos\n",
    "\n",
    "# Clase base Vehículo que contiene atributos comunes a motos y automóviles\n",
    "class Vehiculo:\n",
    "    def __init__(self, marca, modelo, color, placa, año_matricula, precio_por_km):\n",
    "        self.marca = marca\n",
    "        self.modelo = modelo\n",
    "        self.color = color\n",
    "        self.placa = placa\n",
    "        self.año_matricula = año_matricula\n",
    "        self.precio_por_km = precio_por_km  # Tarifa de delivery por kilómetro recorrido\n",
    "\n",
    "# Subclase Moto que hereda de Vehiculo y agrega el atributo pasajeros\n",
    "class Moto(Vehiculo):\n",
    "    def __init__(self, marca, modelo, color, placa, año_matricula, precio_por_km, pasajeros):\n",
    "        super().__init__(marca, modelo, color, placa, año_matricula, precio_por_km)  # Hereda atributos del vehículo\n",
    "        self.pasajeros = pasajeros  # Capacidad de pasajeros en la moto\n",
    "\n",
    "# Subclase Automóvil que hereda de Vehiculo y agrega cilindraje\n",
    "class Automovil(Vehiculo):\n",
    "    def __init__(self, marca, modelo, color, placa, año_matricula, precio_por_km, cilindraje):\n",
    "        super().__init__(marca, modelo, color, placa, año_matricula, precio_por_km)  # Hereda atributos del vehículo\n",
    "        self.cilindraje = cilindraje  # Tamaño del motor del automóvil\n",
    "\n",
    "# Clase Persona que representa al cliente o repartidor\n",
    "class Persona:\n",
    "    def __init__(self, nombre):\n",
    "        self.nombre = nombre  # Nombre de la persona involucrada en el pedido\n",
    "\n",
    "# Clase Deliveri que representa un servicio de entrega\n",
    "class Deliveri:\n",
    "    def __init__(self, vehiculo, distancia, persona):\n",
    "        self.vehiculo = vehiculo      # Vehículo usado para el delivery (moto o automóvil)\n",
    "        self.distancia = distancia    # Distancia del envío en kilómetros\n",
    "        self.persona = persona        # Persona asociada al envío\n",
    "\n",
    "    # Método que calcula el costo total del delivery\n",
    "    def calcular_precio(self):\n",
    "        return self.distancia * self.vehiculo.precio_por_km\n",
    "    # Método opcional que podría imprimir detalles (actualmente imprime solo el objeto)\n",
    "    def imprimir_detalles(self):\n",
    "        print(self.vehiculo)\n",
    "\n",
    "# === Ejemplo de uso del sistema ===\n",
    "\n",
    "# Se crea una moto con sus respectivos datos\n",
    "moto1 = Moto(\"Yamaha\", \"XTZ1223\", \"Negra\", \"abc354\", 2025, 1.25, 2)\n",
    "\n",
    "# Se crea una persona llamada Aracely\n",
    "persona1 = Persona(\"Aracely\")\n",
    "\n",
    "# Se crea un servicio de delivery con esa moto, persona, y una distancia de 25.2 km\n",
    "deliveri1 = Deliveri(moto1, 25.2, persona1)\n",
    "\n",
    "print(f\"Brinda el servicio de deliveri {persona1.nombre} al valor de {moto1.precio_por_km} por km, los km recorridos son de {deliveri1.distancia} el valor a pagar es el siguiente:\")\n",
    "\n",
    "# Se imprime el costo total del delivery\n",
    "print(f\" ${deliveri1.calcular_precio()}\")  # Resultado: 25.2 km * $1.25 = $31.5\n",
    "\n",
    "\n",
    "\n"
   ]
  }
 ],
 "metadata": {
  "kernelspec": {
   "display_name": "Python 3",
   "language": "python",
   "name": "python3"
  },
  "language_info": {
   "codemirror_mode": {
    "name": "ipython",
    "version": 2
   },
   "file_extension": ".py",
   "mimetype": "text/x-python",
   "name": "python",
   "nbconvert_exporter": "python",
   "pygments_lexer": "ipython2",
   "version": "2.7.6"
  }
 },
 "nbformat": 4,
 "nbformat_minor": 5
}
